{
 "cells": [
  {
   "cell_type": "markdown",
   "metadata": {},
   "source": [
    "## Anagram Check"
   ]
  },
  {
   "cell_type": "code",
   "execution_count": 78,
   "metadata": {},
   "outputs": [],
   "source": [
    "def anagram(sent1,sent2):\n",
    "    \n",
    "    _dict = {}\n",
    "    \n",
    "    list1 = sent1.replace(' ', '').lower()\n",
    "    list2 = sent2.replace(' ', '').lower()\n",
    "    \n",
    "    \n",
    "    for k in list1:\n",
    "        \n",
    "        if k in _dict:\n",
    "            _dict[k] +=1\n",
    "        else:\n",
    "            _dict[k] = 1\n",
    "    \n",
    "    for k in list2:\n",
    "        \n",
    "        if k in _dict:\n",
    "            _dict[k] -=1\n",
    "        else:\n",
    "            _dict[k] = 1\n",
    "    \n",
    "    for k in _dict:\n",
    "        \n",
    "        if _dict[k] != 0:\n",
    "            return False\n",
    "        else:\n",
    "            return True"
   ]
  },
  {
   "cell_type": "code",
   "execution_count": 79,
   "metadata": {},
   "outputs": [
    {
     "data": {
      "text/plain": [
       "True"
      ]
     },
     "execution_count": 79,
     "metadata": {},
     "output_type": "execute_result"
    }
   ],
   "source": [
    "anagram('Clint Eastwood', 'old west action')"
   ]
  },
  {
   "cell_type": "markdown",
   "metadata": {},
   "source": [
    "## Array Pair Sum , O(N)"
   ]
  },
  {
   "cell_type": "code",
   "execution_count": 124,
   "metadata": {},
   "outputs": [],
   "source": [
    "def array_pair_sum(array, num): \n",
    "    \n",
    "    seen = set()\n",
    "    output = set()\n",
    "    \n",
    "    for k in array:\n",
    "        \n",
    "        target = num-k\n",
    "        \n",
    "        if target not in seen:\n",
    "            seen.add(k)\n",
    "        \n",
    "        else:\n",
    "            output.add((min(k,target),max(k,target)))\n",
    "            \n",
    "    print(list(output)[0],'\\n',list(output)[1])"
   ]
  },
  {
   "cell_type": "code",
   "execution_count": 125,
   "metadata": {},
   "outputs": [
    {
     "name": "stdout",
     "output_type": "stream",
     "text": [
      "(2, 5) \n",
      " (3, 4)\n"
     ]
    }
   ],
   "source": [
    "array_pair_sum([2,3,4,5], 7)"
   ]
  },
  {
   "cell_type": "markdown",
   "metadata": {},
   "source": [
    "## Missing element shuffled array"
   ]
  },
  {
   "cell_type": "code",
   "execution_count": 126,
   "metadata": {},
   "outputs": [],
   "source": [
    "def missing_element(arr1,arr2):\n",
    "    \n",
    "    sum_arr1 = 0\n",
    "    sum_arr2 = 0\n",
    "    \n",
    "    for k in arr1:\n",
    "        sum_arr1 +=k\n",
    "        \n",
    "    for k in arr2:\n",
    "        sum_arr2 +=k\n",
    "        \n",
    "    ele = sum_arr1 - sum_arr2\n",
    "    \n",
    "    return ele"
   ]
  },
  {
   "cell_type": "code",
   "execution_count": 130,
   "metadata": {},
   "outputs": [
    {
     "data": {
      "text/plain": [
       "2"
      ]
     },
     "execution_count": 130,
     "metadata": {},
     "output_type": "execute_result"
    }
   ],
   "source": [
    "missing_element([2,2,3,4,5],[5,3,2,4])"
   ]
  },
  {
   "cell_type": "code",
   "execution_count": null,
   "metadata": {},
   "outputs": [],
   "source": []
  }
 ],
 "metadata": {
  "kernelspec": {
   "display_name": "Python 3",
   "language": "python",
   "name": "python3"
  },
  "language_info": {
   "codemirror_mode": {
    "name": "ipython",
    "version": 3
   },
   "file_extension": ".py",
   "mimetype": "text/x-python",
   "name": "python",
   "nbconvert_exporter": "python",
   "pygments_lexer": "ipython3",
   "version": "3.7.6"
  }
 },
 "nbformat": 4,
 "nbformat_minor": 4
}
