{
 "cells": [
  {
   "cell_type": "markdown",
   "metadata": {},
   "source": [
    "## Anagram Check"
   ]
  },
  {
   "cell_type": "code",
   "execution_count": 78,
   "metadata": {},
   "outputs": [],
   "source": [
    "def anagram(sent1,sent2):\n",
    "    \n",
    "    _dict = {}\n",
    "    \n",
    "    list1 = sent1.replace(' ', '').lower()\n",
    "    list2 = sent2.replace(' ', '').lower()\n",
    "    \n",
    "    \n",
    "    for k in list1:\n",
    "        \n",
    "        if k in _dict:\n",
    "            _dict[k] +=1\n",
    "        else:\n",
    "            _dict[k] = 1\n",
    "    \n",
    "    for k in list2:\n",
    "        \n",
    "        if k in _dict:\n",
    "            _dict[k] -=1\n",
    "        else:\n",
    "            _dict[k] = 1\n",
    "    \n",
    "    for k in _dict:\n",
    "        \n",
    "        if _dict[k] != 0:\n",
    "            return False\n",
    "        else:\n",
    "            return True"
   ]
  },
  {
   "cell_type": "code",
   "execution_count": 79,
   "metadata": {},
   "outputs": [
    {
     "data": {
      "text/plain": [
       "True"
      ]
     },
     "execution_count": 79,
     "metadata": {},
     "output_type": "execute_result"
    }
   ],
   "source": [
    "anagram('Clint Eastwood', 'old west action')"
   ]
  },
  {
   "cell_type": "markdown",
   "metadata": {},
   "source": [
    "## Array Pair Sum , O(N)"
   ]
  },
  {
   "cell_type": "code",
   "execution_count": 124,
   "metadata": {},
   "outputs": [],
   "source": [
    "def array_pair_sum(array, num): \n",
    "    \n",
    "    seen = set()\n",
    "    output = set()\n",
    "    \n",
    "    for k in array:\n",
    "        \n",
    "        target = num-k\n",
    "        \n",
    "        if target not in seen:\n",
    "            seen.add(k)\n",
    "        \n",
    "        else:\n",
    "            output.add((min(k,target),max(k,target)))\n",
    "            \n",
    "    print(list(output)[0],'\\n',list(output)[1])"
   ]
  },
  {
   "cell_type": "code",
   "execution_count": 125,
   "metadata": {},
   "outputs": [
    {
     "name": "stdout",
     "output_type": "stream",
     "text": [
      "(2, 5) \n",
      " (3, 4)\n"
     ]
    }
   ],
   "source": [
    "array_pair_sum([2,3,4,5], 7)"
   ]
  },
  {
   "cell_type": "markdown",
   "metadata": {},
   "source": [
    "## Missing element shuffled array"
   ]
  },
  {
   "cell_type": "code",
   "execution_count": 32,
   "metadata": {},
   "outputs": [],
   "source": [
    "def missing_element(arr1,arr2):\n",
    "    \n",
    "    _dict = {}\n",
    "    _new_dict = {}\n",
    "    \n",
    "    for k in arr1:\n",
    "        if k not in _dict:\n",
    "            _dict[k] = 1\n",
    "        else:\n",
    "            _dict[k] += 1\n",
    "            \n",
    "    for k in arr2:\n",
    "        if k in _dict:\n",
    "            _dict[k] -=1\n",
    "        else:\n",
    "            _dict[k] = 1\n",
    "    \n",
    "    for k in _dict:\n",
    "        if _dict[k] != 0:\n",
    "            _new_dict.update({k:_dict[k]})\n",
    "    \n",
    "    return _new_dict"
   ]
  },
  {
   "cell_type": "code",
   "execution_count": 33,
   "metadata": {},
   "outputs": [
    {
     "data": {
      "text/plain": [
       "{8: 1}"
      ]
     },
     "execution_count": 33,
     "metadata": {},
     "output_type": "execute_result"
    }
   ],
   "source": [
    "missing_element([1,2,7,4,8,4],[1,2,7,4,4])"
   ]
  },
  {
   "cell_type": "markdown",
   "metadata": {},
   "source": [
    "## Single Number"
   ]
  },
  {
   "cell_type": "code",
   "execution_count": 35,
   "metadata": {},
   "outputs": [
    {
     "name": "stdout",
     "output_type": "stream",
     "text": [
      "1\n",
      "4\n"
     ]
    }
   ],
   "source": [
    "def single_number(array):\n",
    "    \n",
    "    _dict = {}\n",
    "    \n",
    "    for k in array:\n",
    "        if k not in _dict:\n",
    "            _dict[k] = 1\n",
    "            \n",
    "        else:\n",
    "            _dict[k] += 1\n",
    "            \n",
    "    for k in _dict:\n",
    "        if _dict[k] == 1:\n",
    "            return k\n",
    "        \n",
    "if __name__=='__main__':\n",
    "    \n",
    "    print(single_number([2,2,1]))\n",
    "    print(single_number([4,1,2,1,2]))"
   ]
  },
  {
   "cell_type": "markdown",
   "metadata": {},
   "source": [
    "## Lucky Number: Sum of square of digits is 1"
   ]
  },
  {
   "cell_type": "code",
   "execution_count": 10,
   "metadata": {},
   "outputs": [],
   "source": [
    "class Solution:\n",
    "        \n",
    "    def f(self,k):\n",
    "        \n",
    "        _sum = 0\n",
    "        while k:\n",
    "            digit = k%10\n",
    "            k = k//10\n",
    "            _sum += (digit)**2\n",
    "        return _sum\n",
    "    \n",
    "    def isHappy(self, n: int) -> bool:\n",
    "        \n",
    "        s = set()\n",
    "        \n",
    "        while n>=1:    \n",
    "            if n == 1:\n",
    "                return True\n",
    "        \n",
    "            n = Solution.f(self,n)\n",
    "            print(n)\n",
    "            \n",
    "            if n in s:\n",
    "                return False\n",
    "        \n",
    "            else:\n",
    "                s.add(n)\n",
    "        return False\n",
    "            \n",
    "sol = Solution()"
   ]
  },
  {
   "cell_type": "code",
   "execution_count": 12,
   "metadata": {},
   "outputs": [
    {
     "name": "stdout",
     "output_type": "stream",
     "text": [
      "82\n",
      "68\n",
      "100\n",
      "1\n"
     ]
    },
    {
     "data": {
      "text/plain": [
       "True"
      ]
     },
     "execution_count": 12,
     "metadata": {},
     "output_type": "execute_result"
    }
   ],
   "source": [
    "sol.isHappy(19)"
   ]
  },
  {
   "cell_type": "markdown",
   "metadata": {},
   "source": [
    "## max sum of a continuous subarray within an array"
   ]
  },
  {
   "cell_type": "code",
   "execution_count": 50,
   "metadata": {},
   "outputs": [],
   "source": [
    "class Solution:\n",
    "    def maxSubArray(self, nums):\n",
    "        \n",
    "        for k in range(1,len(nums)):\n",
    "            if nums[k-1]<0:\n",
    "                continue\n",
    "            else:\n",
    "                nums[k] += nums[k-1]\n",
    "        return max(nums)\n",
    "\n",
    "sol = Solution()"
   ]
  },
  {
   "cell_type": "code",
   "execution_count": 53,
   "metadata": {},
   "outputs": [
    {
     "data": {
      "text/plain": [
       "6"
      ]
     },
     "execution_count": 53,
     "metadata": {},
     "output_type": "execute_result"
    }
   ],
   "source": [
    "sol.maxSubArray([-2,1,-3,4,-1,2,1,-5,4])"
   ]
  },
  {
   "cell_type": "code",
   "execution_count": 54,
   "metadata": {},
   "outputs": [
    {
     "data": {
      "text/plain": [
       "1"
      ]
     },
     "execution_count": 54,
     "metadata": {},
     "output_type": "execute_result"
    }
   ],
   "source": [
    "sol.maxSubArray([-2,1])"
   ]
  },
  {
   "cell_type": "code",
   "execution_count": null,
   "metadata": {},
   "outputs": [],
   "source": []
  }
 ],
 "metadata": {
  "kernelspec": {
   "display_name": "Python 3",
   "language": "python",
   "name": "python3"
  },
  "language_info": {
   "codemirror_mode": {
    "name": "ipython",
    "version": 3
   },
   "file_extension": ".py",
   "mimetype": "text/x-python",
   "name": "python",
   "nbconvert_exporter": "python",
   "pygments_lexer": "ipython3",
   "version": "3.7.3"
  }
 },
 "nbformat": 4,
 "nbformat_minor": 4
}
