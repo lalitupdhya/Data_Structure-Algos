{
 "cells": [
  {
   "cell_type": "markdown",
   "metadata": {},
   "source": [
    "## Group Anagrams"
   ]
  },
  {
   "cell_type": "code",
   "execution_count": 24,
   "metadata": {},
   "outputs": [],
   "source": [
    "\n",
    "def group_anagrams(arr):\n",
    "    \n",
    "    d = collections.defaultdict(list)\n",
    "    \n",
    "    for k in arr:\n",
    "        d[(\"\".join(sorted(k.replace(\" \",\"\"))))].append(k)\n",
    "    \n",
    "    ans = []\n",
    "    \n",
    "    for k in d:\n",
    "        ans.append(d[k])\n",
    "    return ans"
   ]
  },
  {
   "cell_type": "code",
   "execution_count": 26,
   "metadata": {},
   "outputs": [
    {
     "ename": "NameError",
     "evalue": "name 'collections' is not defined",
     "output_type": "error",
     "traceback": [
      "\u001b[1;31m---------------------------------------------------------------------------\u001b[0m",
      "\u001b[1;31mNameError\u001b[0m                                 Traceback (most recent call last)",
      "\u001b[1;32m<ipython-input-26-9f21cccea7e8>\u001b[0m in \u001b[0;36m<module>\u001b[1;34m\u001b[0m\n\u001b[1;32m----> 1\u001b[1;33m \u001b[0mgroup_anagrams\u001b[0m\u001b[1;33m(\u001b[0m\u001b[1;33m[\u001b[0m\u001b[1;34m'clint eastwood'\u001b[0m\u001b[1;33m,\u001b[0m \u001b[1;34m'old west action'\u001b[0m\u001b[1;33m,\u001b[0m\u001b[1;34m'dog'\u001b[0m\u001b[1;33m,\u001b[0m\u001b[1;34m'god'\u001b[0m\u001b[1;33m]\u001b[0m\u001b[1;33m)\u001b[0m\u001b[1;33m\u001b[0m\u001b[1;33m\u001b[0m\u001b[0m\n\u001b[0m",
      "\u001b[1;32m<ipython-input-24-643abb14f119>\u001b[0m in \u001b[0;36mgroup_anagrams\u001b[1;34m(arr)\u001b[0m\n\u001b[0;32m      1\u001b[0m \u001b[1;32mdef\u001b[0m \u001b[0mgroup_anagrams\u001b[0m\u001b[1;33m(\u001b[0m\u001b[0marr\u001b[0m\u001b[1;33m)\u001b[0m\u001b[1;33m:\u001b[0m\u001b[1;33m\u001b[0m\u001b[1;33m\u001b[0m\u001b[0m\n\u001b[0;32m      2\u001b[0m \u001b[1;33m\u001b[0m\u001b[0m\n\u001b[1;32m----> 3\u001b[1;33m     \u001b[0md\u001b[0m \u001b[1;33m=\u001b[0m \u001b[0mcollections\u001b[0m\u001b[1;33m.\u001b[0m\u001b[0mdefaultdict\u001b[0m\u001b[1;33m(\u001b[0m\u001b[0mlist\u001b[0m\u001b[1;33m)\u001b[0m\u001b[1;33m\u001b[0m\u001b[1;33m\u001b[0m\u001b[0m\n\u001b[0m\u001b[0;32m      4\u001b[0m \u001b[1;33m\u001b[0m\u001b[0m\n\u001b[0;32m      5\u001b[0m     \u001b[1;32mfor\u001b[0m \u001b[0mk\u001b[0m \u001b[1;32min\u001b[0m \u001b[0marr\u001b[0m\u001b[1;33m:\u001b[0m\u001b[1;33m\u001b[0m\u001b[1;33m\u001b[0m\u001b[0m\n",
      "\u001b[1;31mNameError\u001b[0m: name 'collections' is not defined"
     ]
    }
   ],
   "source": [
    "group_anagrams(['clint eastwood', 'old west action','dog','god'])"
   ]
  },
  {
   "cell_type": "markdown",
   "metadata": {},
   "source": [
    "## Array Pair Sum , O(N)"
   ]
  },
  {
   "cell_type": "code",
   "execution_count": 233,
   "metadata": {},
   "outputs": [],
   "source": [
    "def array_pair_sum(array, num): \n",
    "    \n",
    "    seen = set()\n",
    "    output = set()\n",
    "    \n",
    "    for k in array:\n",
    "        \n",
    "        target = num-k\n",
    "        \n",
    "        if target not in seen:\n",
    "            seen.add(k)\n",
    "        \n",
    "        else:\n",
    "            output.add((min(k,target),max(k,target)))\n",
    "            \n",
    "    print(list(output)[0],'\\n',list(output)[1])"
   ]
  },
  {
   "cell_type": "code",
   "execution_count": 234,
   "metadata": {},
   "outputs": [
    {
     "name": "stdout",
     "output_type": "stream",
     "text": [
      "(2, 5) \n",
      " (3, 4)\n"
     ]
    }
   ],
   "source": [
    "array_pair_sum([2,3,4,5], 7)"
   ]
  },
  {
   "cell_type": "markdown",
   "metadata": {},
   "source": [
    "## Missing element shuffled array"
   ]
  },
  {
   "cell_type": "code",
   "execution_count": 235,
   "metadata": {},
   "outputs": [],
   "source": [
    "def missing_element(arr1,arr2):\n",
    "    \n",
    "    _dict = {}\n",
    "    _new_dict = {}\n",
    "    \n",
    "    for k in arr1:\n",
    "        if k not in _dict:\n",
    "            _dict[k] = 1\n",
    "        else:\n",
    "            _dict[k] += 1\n",
    "            \n",
    "    for k in arr2:\n",
    "        if k in _dict:\n",
    "            _dict[k] -=1\n",
    "        else:\n",
    "            _dict[k] = 1\n",
    "    \n",
    "    for k in _dict:\n",
    "        if _dict[k] != 0:\n",
    "            _new_dict.update({k:_dict[k]})\n",
    "    \n",
    "    return _new_dict"
   ]
  },
  {
   "cell_type": "code",
   "execution_count": 236,
   "metadata": {},
   "outputs": [
    {
     "data": {
      "text/plain": [
       "{8: 1}"
      ]
     },
     "execution_count": 236,
     "metadata": {},
     "output_type": "execute_result"
    }
   ],
   "source": [
    "missing_element([1,2,7,4,8,4],[1,2,7,4,4])"
   ]
  },
  {
   "cell_type": "markdown",
   "metadata": {},
   "source": [
    "## Single Number"
   ]
  },
  {
   "cell_type": "code",
   "execution_count": 237,
   "metadata": {},
   "outputs": [
    {
     "name": "stdout",
     "output_type": "stream",
     "text": [
      "1\n",
      "4\n"
     ]
    }
   ],
   "source": [
    "def single_number(array):\n",
    "    \n",
    "    _dict = {}\n",
    "    \n",
    "    for k in array:\n",
    "        if k not in _dict:\n",
    "            _dict[k] = 1\n",
    "            \n",
    "        else:\n",
    "            _dict[k] += 1\n",
    "            \n",
    "    for k in _dict:\n",
    "        if _dict[k] == 1:\n",
    "            return k\n",
    "        \n",
    "if __name__=='__main__':\n",
    "    \n",
    "    print(single_number([2,2,1]))\n",
    "    print(single_number([4,1,2,1,2]))"
   ]
  },
  {
   "cell_type": "markdown",
   "metadata": {},
   "source": [
    "## Lucky Number: Sum of square of digits is 1"
   ]
  },
  {
   "cell_type": "code",
   "execution_count": 238,
   "metadata": {},
   "outputs": [],
   "source": [
    "class Solution:\n",
    "        \n",
    "    def f(self,k):\n",
    "        \n",
    "        _sum = 0\n",
    "        while k:\n",
    "            digit = k%10\n",
    "            k = k//10\n",
    "            _sum += (digit)**2\n",
    "        return _sum\n",
    "    \n",
    "    def isLucky(self, n: int) -> bool:\n",
    "        \n",
    "        s = set()\n",
    "        \n",
    "        while n>=1:    \n",
    "            if n == 1:\n",
    "                return True\n",
    "        \n",
    "            n = Solution.f(self,n)\n",
    "            print(n)\n",
    "            \n",
    "            if n in s:\n",
    "                return False\n",
    "        \n",
    "            else:\n",
    "                s.add(n)\n",
    "        return False\n",
    "            \n",
    "sol = Solution()"
   ]
  },
  {
   "cell_type": "code",
   "execution_count": 239,
   "metadata": {},
   "outputs": [
    {
     "name": "stdout",
     "output_type": "stream",
     "text": [
      "82\n",
      "68\n",
      "100\n",
      "1\n"
     ]
    },
    {
     "data": {
      "text/plain": [
       "True"
      ]
     },
     "execution_count": 239,
     "metadata": {},
     "output_type": "execute_result"
    }
   ],
   "source": [
    "sol.isLucky(19)"
   ]
  },
  {
   "cell_type": "markdown",
   "metadata": {},
   "source": [
    "## max sum of a continuous subarray within an array O(N)"
   ]
  },
  {
   "cell_type": "code",
   "execution_count": 240,
   "metadata": {},
   "outputs": [],
   "source": [
    "class Solution:\n",
    "    def maxSubArray(self, nums):\n",
    "        \n",
    "        for k in range(1,len(nums)):\n",
    "            if nums[k-1]<0:\n",
    "                continue\n",
    "            else:\n",
    "                nums[k] += nums[k-1]\n",
    "        return max(nums)\n",
    "\n",
    "sol = Solution()"
   ]
  },
  {
   "cell_type": "code",
   "execution_count": 241,
   "metadata": {},
   "outputs": [
    {
     "data": {
      "text/plain": [
       "6"
      ]
     },
     "execution_count": 241,
     "metadata": {},
     "output_type": "execute_result"
    }
   ],
   "source": [
    "sol.maxSubArray([-2,1,-3,4,-1,2,1,-5,4])"
   ]
  },
  {
   "cell_type": "code",
   "execution_count": 242,
   "metadata": {},
   "outputs": [
    {
     "data": {
      "text/plain": [
       "1"
      ]
     },
     "execution_count": 242,
     "metadata": {},
     "output_type": "execute_result"
    }
   ],
   "source": [
    "sol.maxSubArray([-2,1])"
   ]
  },
  {
   "cell_type": "markdown",
   "metadata": {},
   "source": [
    "## Move all zeroes to the end, non-zero element order should remain same"
   ]
  },
  {
   "cell_type": "code",
   "execution_count": 243,
   "metadata": {},
   "outputs": [],
   "source": [
    "def move_zeroes(arr):\n",
    "    i = 0\n",
    "    for k in range(len(arr)):\n",
    "        if arr[k] != 0:\n",
    "            zero = arr.pop(k)\n",
    "            print('pop:', arr)\n",
    "            arr.insert(i,zero)\n",
    "            i+=1\n",
    "            print('add:', arr)\n",
    "        else:\n",
    "            continue\n",
    "    return arr"
   ]
  },
  {
   "cell_type": "code",
   "execution_count": 244,
   "metadata": {},
   "outputs": [
    {
     "name": "stdout",
     "output_type": "stream",
     "text": [
      "pop: [0, 0, 3, 12]\n",
      "add: [1, 0, 0, 3, 12]\n",
      "pop: [1, 0, 0, 12]\n",
      "add: [1, 3, 0, 0, 12]\n",
      "pop: [1, 3, 0, 0]\n",
      "add: [1, 3, 12, 0, 0]\n"
     ]
    },
    {
     "data": {
      "text/plain": [
       "[1, 3, 12, 0, 0]"
      ]
     },
     "execution_count": 244,
     "metadata": {},
     "output_type": "execute_result"
    }
   ],
   "source": [
    "move_zeroes([0,1,0,3,12])"
   ]
  },
  {
   "cell_type": "markdown",
   "metadata": {},
   "source": [
    "## Best time to buy and sell stock"
   ]
  },
  {
   "cell_type": "code",
   "execution_count": 245,
   "metadata": {},
   "outputs": [],
   "source": [
    "def buy_sell_stock(arr):\n",
    "    \n",
    "    if len(arr)<2:\n",
    "        return 0\n",
    "    else:\n",
    "        \n",
    "        max_profit = 0\n",
    "        min_price = arr[0]\n",
    "        total_profit = 0\n",
    "        \n",
    "        for k in range(1,len(arr)):\n",
    "            if arr[k]>arr[k-1]:\n",
    "                min_price = min(arr[k], min_price)\n",
    "                compare_profit = arr[k] - min_price\n",
    "                max_profit = max(max_profit,compare_profit)\n",
    "                print('buy:', min_price)\n",
    "                print('sell:',arr[k])\n",
    "                print('max_profit:',max_profit)\n",
    "\n",
    "            else:\n",
    "                total_profit += max_profit\n",
    "                min_price = arr[k]\n",
    "                max_profit = 0\n",
    "        total_profit += max_profit\n",
    "    return total_profit"
   ]
  },
  {
   "cell_type": "code",
   "execution_count": 246,
   "metadata": {},
   "outputs": [
    {
     "name": "stdout",
     "output_type": "stream",
     "text": [
      "buy: 20\n",
      "sell: 25\n",
      "max_profit: 5\n",
      "buy: 23\n",
      "sell: 24\n",
      "max_profit: 1\n",
      "buy: 23\n",
      "sell: 28\n",
      "max_profit: 5\n",
      "buy: 23\n",
      "sell: 31\n",
      "max_profit: 8\n",
      "buy: 23\n",
      "sell: 40\n",
      "max_profit: 17\n",
      "buy: 23\n",
      "sell: 42\n",
      "max_profit: 19\n"
     ]
    },
    {
     "data": {
      "text/plain": [
       "24"
      ]
     },
     "execution_count": 246,
     "metadata": {},
     "output_type": "execute_result"
    }
   ],
   "source": [
    "buy_sell_stock([20,25,23,24,28,31,40,42,38,37,10])"
   ]
  },
  {
   "cell_type": "code",
   "execution_count": null,
   "metadata": {},
   "outputs": [],
   "source": []
  }
 ],
 "metadata": {
  "kernelspec": {
   "display_name": "Python 3",
   "language": "python",
   "name": "python3"
  },
  "language_info": {
   "codemirror_mode": {
    "name": "ipython",
    "version": 3
   },
   "file_extension": ".py",
   "mimetype": "text/x-python",
   "name": "python",
   "nbconvert_exporter": "python",
   "pygments_lexer": "ipython3",
   "version": "3.7.3"
  }
 },
 "nbformat": 4,
 "nbformat_minor": 4
}
