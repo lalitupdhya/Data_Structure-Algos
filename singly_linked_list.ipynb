{
 "cells": [
  {
   "cell_type": "markdown",
   "metadata": {},
   "source": [
    "- Create nodes\n",
    "- Create linked list\n",
    "- add nodes to the linked list\n",
    "- print linked list"
   ]
  },
  {
   "cell_type": "code",
   "execution_count": 74,
   "metadata": {},
   "outputs": [],
   "source": [
    "class Node:\n",
    "    def __init__(self, data):\n",
    "        self.data = data\n",
    "        self.next = None\n",
    "        \n",
    "class LinkedList:\n",
    "    def __init__(self):\n",
    "        self.head = None\n",
    "        \n",
    "    def listlength(self):\n",
    "        currentNode = self.head\n",
    "        counter = 0\n",
    "        while currentNode is not None:\n",
    "            currentNode = currentNode.next\n",
    "            counter += 1\n",
    "        return counter\n",
    "        \n",
    "    def insertEnd(self, newNode):\n",
    "        if self.head is None:\n",
    "            self.head = newNode\n",
    "        else:\n",
    "            lastNode = self.head\n",
    "            while True:\n",
    "                if lastNode.next is None:\n",
    "                    break\n",
    "                lastNode = lastNode.next\n",
    "            lastNode.next = newNode\n",
    "    \n",
    "    def insertHead(self, newNode):\n",
    "        tempNode = self.head\n",
    "        self.head = newNode\n",
    "        self.head.next = tempNode\n",
    "        del tempNode\n",
    "    \n",
    "    def insertAt(self, newNode, pos):\n",
    "        currentNode = self.head\n",
    "        currentpos = 0\n",
    "        \n",
    "        if pos<0 or pos>self.listlength():\n",
    "            print('Not a valid position:{}'.format(pos))\n",
    "            return\n",
    "        if pos == 0:\n",
    "            self.insertHead(newNode)\n",
    "            return\n",
    "        \n",
    "        while True:\n",
    "            if currentpos == pos:# Lalit -> John -> Ben\n",
    "                previousNode.next = newNode\n",
    "                newNode.next = currentNode\n",
    "                break\n",
    "            previousNode = currentNode\n",
    "            currentNode = currentNode.next\n",
    "            currentpos += 1\n",
    "    \n",
    "    def deleteHead(self):\n",
    "        currentNode = self.head\n",
    "        if currentNode.next is None:\n",
    "            currentNode = None\n",
    "        else:\n",
    "            tempNode = currentNode\n",
    "            self.head = currentNode.next\n",
    "            tempNode.next = None\n",
    "            \n",
    "    def deleteEnd(self):\n",
    "        currentNode = self.head\n",
    "        counter = 0\n",
    "        \n",
    "        while True:\n",
    "            if self.listlength() == 1:\n",
    "                self.deleteHead()\n",
    "                break\n",
    "            elif currentNode.next is None:\n",
    "                previousNode.next = None\n",
    "                break\n",
    "            previousNode = currentNode\n",
    "            currentNode = currentNode.next\n",
    "            counter += 1\n",
    "        \n",
    "    def printlist(self):\n",
    "        currentNode = self.head\n",
    "        \n",
    "        if currentNode is None:\n",
    "            print('Linked List is empty')\n",
    "            return\n",
    "        while True:\n",
    "            if currentNode is None:\n",
    "                break\n",
    "            print(currentNode.data)\n",
    "            currentNode = currentNode.next           "
   ]
  },
  {
   "cell_type": "code",
   "execution_count": 75,
   "metadata": {},
   "outputs": [],
   "source": [
    "linkedlist = LinkedList()\n",
    "\n",
    "node1 = Node(1)\n",
    "linkedlist.insertEnd(node1)\n",
    "\n",
    "node2 = Node(2)\n",
    "linkedlist.insertEnd(node2)\n",
    "\n",
    "node3 = Node(3)\n",
    "linkedlist.insertEnd(node3)"
   ]
  },
  {
   "cell_type": "code",
   "execution_count": 76,
   "metadata": {},
   "outputs": [
    {
     "name": "stdout",
     "output_type": "stream",
     "text": [
      "1\n",
      "2\n",
      "3\n"
     ]
    }
   ],
   "source": [
    "linkedlist.printlist()"
   ]
  },
  {
   "cell_type": "code",
   "execution_count": 77,
   "metadata": {},
   "outputs": [],
   "source": [
    "linkedlist.deleteEnd()"
   ]
  },
  {
   "cell_type": "code",
   "execution_count": 78,
   "metadata": {},
   "outputs": [
    {
     "name": "stdout",
     "output_type": "stream",
     "text": [
      "1\n",
      "2\n"
     ]
    }
   ],
   "source": [
    "linkedlist.printlist()"
   ]
  },
  {
   "cell_type": "code",
   "execution_count": 79,
   "metadata": {},
   "outputs": [],
   "source": [
    "linkedlist.deleteEnd()"
   ]
  },
  {
   "cell_type": "code",
   "execution_count": 80,
   "metadata": {},
   "outputs": [
    {
     "name": "stdout",
     "output_type": "stream",
     "text": [
      "1\n"
     ]
    }
   ],
   "source": [
    "linkedlist.printlist()"
   ]
  },
  {
   "cell_type": "code",
   "execution_count": 81,
   "metadata": {},
   "outputs": [
    {
     "data": {
      "text/plain": [
       "1"
      ]
     },
     "execution_count": 81,
     "metadata": {},
     "output_type": "execute_result"
    }
   ],
   "source": [
    "linkedlist.listlength()"
   ]
  },
  {
   "cell_type": "code",
   "execution_count": 82,
   "metadata": {},
   "outputs": [],
   "source": [
    "linkedlist.deleteEnd()"
   ]
  },
  {
   "cell_type": "code",
   "execution_count": 83,
   "metadata": {},
   "outputs": [
    {
     "data": {
      "text/plain": [
       "1"
      ]
     },
     "execution_count": 83,
     "metadata": {},
     "output_type": "execute_result"
    }
   ],
   "source": [
    "linkedlist.listlength()"
   ]
  },
  {
   "cell_type": "code",
   "execution_count": null,
   "metadata": {},
   "outputs": [],
   "source": []
  }
 ],
 "metadata": {
  "kernelspec": {
   "display_name": "Python 3",
   "language": "python",
   "name": "python3"
  },
  "language_info": {
   "codemirror_mode": {
    "name": "ipython",
    "version": 3
   },
   "file_extension": ".py",
   "mimetype": "text/x-python",
   "name": "python",
   "nbconvert_exporter": "python",
   "pygments_lexer": "ipython3",
   "version": "3.7.3"
  }
 },
 "nbformat": 4,
 "nbformat_minor": 2
}
