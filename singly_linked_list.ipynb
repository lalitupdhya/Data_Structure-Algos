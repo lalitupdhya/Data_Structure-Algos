{
 "cells": [
  {
   "cell_type": "markdown",
   "metadata": {},
   "source": [
    "- Create nodes\n",
    "- Create linked list\n",
    "- add nodes to the linked list\n",
    "- print linked list"
   ]
  },
  {
   "cell_type": "code",
   "execution_count": 45,
   "metadata": {},
   "outputs": [],
   "source": [
    "class Node:\n",
    "    def __init__(self, data):\n",
    "        self.data = data\n",
    "        self.next = None\n",
    "        \n",
    "class LinkedList:\n",
    "    def __init__(self):\n",
    "        self.head = None\n",
    "        \n",
    "    def insertEnd(self, newNode):\n",
    "        if self.head is None:\n",
    "            self.head = newNode\n",
    "        else:\n",
    "            lastNode = self.head\n",
    "            while True:\n",
    "                if lastNode.next is None:\n",
    "                    break\n",
    "                lastNode = lastNode.next\n",
    "            lastNode.next = newNode\n",
    "    \n",
    "    def insertHead(self, newNode):\n",
    "        tempNode = self.head\n",
    "        self.head = newNode\n",
    "        self.head.next = tempNode\n",
    "        del tempNode\n",
    "    \n",
    "    def insertAt(self, newNode, pos):\n",
    "        currentNode = self.head\n",
    "        currentpos = 0\n",
    "        \n",
    "        while True:\n",
    "            if currentpos == pos:# Lalit -> John -> Ben\n",
    "                previousNode.next = newNode\n",
    "                newNode.next = currentNode\n",
    "                break\n",
    "            previousNode = currentNode\n",
    "            currentNode = currentNode.next\n",
    "            currentpos += 1\n",
    "            \n",
    "    def delete(self, existingnode):\n",
    "        \n",
    "    def printlist(self):\n",
    "        currentNode = self.head\n",
    "        \n",
    "        if currentNode is None:\n",
    "            print('Linked List is empty')\n",
    "            return\n",
    "        while True:\n",
    "            if currentNode is None:\n",
    "                break\n",
    "            print(currentNode.data)\n",
    "            currentNode = currentNode.next           "
   ]
  },
  {
   "cell_type": "code",
   "execution_count": 46,
   "metadata": {},
   "outputs": [],
   "source": [
    "linkedlist = LinkedList()"
   ]
  },
  {
   "cell_type": "code",
   "execution_count": 47,
   "metadata": {},
   "outputs": [],
   "source": [
    "HeadNode = Node(\"Birjon\")\n",
    "linkedlist.insertHead(HeadNode)\n",
    "\n",
    "newnode1 = Node(\"Lalit\")\n",
    "linkedlist.insertEnd(newnode1)\n",
    "\n",
    "newnode2 = Node(\"Gandhi\")\n",
    "linkedlist.insertAt(newnode2, 1)"
   ]
  },
  {
   "cell_type": "code",
   "execution_count": 48,
   "metadata": {},
   "outputs": [
    {
     "name": "stdout",
     "output_type": "stream",
     "text": [
      "Birjon\n",
      "Gandhi\n",
      "Lalit\n"
     ]
    }
   ],
   "source": [
    "linkedlist.printlist()"
   ]
  },
  {
   "cell_type": "code",
   "execution_count": 49,
   "metadata": {},
   "outputs": [],
   "source": [
    "newnode3 = Node('Himangshu')\n",
    "linkedlist.insertAt(newnode3,3)"
   ]
  },
  {
   "cell_type": "code",
   "execution_count": 50,
   "metadata": {},
   "outputs": [
    {
     "name": "stdout",
     "output_type": "stream",
     "text": [
      "Birjon\n",
      "Gandhi\n",
      "Lalit\n",
      "Himangshu\n"
     ]
    }
   ],
   "source": [
    "linkedlist.printlist()"
   ]
  },
  {
   "cell_type": "code",
   "execution_count": 52,
   "metadata": {},
   "outputs": [],
   "source": [
    "newnode4 = Node('Bornali')\n",
    "linkedlist.insertHead(newnode4)"
   ]
  },
  {
   "cell_type": "code",
   "execution_count": 53,
   "metadata": {},
   "outputs": [
    {
     "name": "stdout",
     "output_type": "stream",
     "text": [
      "Bornali\n",
      "Birjon\n",
      "Gandhi\n",
      "Lalit\n",
      "Himangshu\n"
     ]
    }
   ],
   "source": [
    "linkedlist.printlist()"
   ]
  },
  {
   "cell_type": "code",
   "execution_count": null,
   "metadata": {},
   "outputs": [],
   "source": []
  }
 ],
 "metadata": {
  "kernelspec": {
   "display_name": "Python 3",
   "language": "python",
   "name": "python3"
  },
  "language_info": {
   "codemirror_mode": {
    "name": "ipython",
    "version": 3
   },
   "file_extension": ".py",
   "mimetype": "text/x-python",
   "name": "python",
   "nbconvert_exporter": "python",
   "pygments_lexer": "ipython3",
   "version": "3.7.3"
  }
 },
 "nbformat": 4,
 "nbformat_minor": 2
}
